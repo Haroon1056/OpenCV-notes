{
 "cells": [
  {
   "cell_type": "markdown",
   "id": "67d3e710-ad8b-4f8c-86a9-b3b9e6eab22d",
   "metadata": {},
   "source": [
    "# OpenCV Practical Notes"
   ]
  },
  {
   "cell_type": "markdown",
   "id": "bf8bbf06-98ad-4af3-89d5-8897bf3a7948",
   "metadata": {},
   "source": [
    "#### 1. What is Computer Vision\n",
    "#### 2. What is OpenCV\n",
    "#### 3. Read and Show Image\n",
    "#### 4. Show Multiple Images and Slide Show\n",
    "#### 3. Read and Show Image [imread() & imshow()]\n",
    "#### 5. Text Over a Image\n",
    "#### 6. Draw Line and Rectangle on Image\n",
    "#### 7. Draw Circle and Ellipse on Image\n",
    "#### 8. Draw Polygons on Image\n",
    "#### 9. Arithmetic Operations on Images using opencv\n",
    "#### 10. Bitwise Operation on Images using opencv\n",
    "#### 11. Edge Detection in an Image using opencv\n",
    "#### 12. Image Scaling and Rotating using opencv\n",
    "#### 13. Image Blurring using opencv\n",
    "#### 14. IMWRITE Method using opencv\n",
    "#### 15. MakeBorder using opencv\n",
    "#### 16. Play a Video using opencv\n",
    "#### 17. Capture Video from camera using opencv\n",
    "#### 18. Slow and  Fast Motion Video\n",
    "#### 19. Morphological Operations using opencv\n",
    "#### 20. Image Pyramid using opencv\n",
    "#### 21. Image Translation using opencv\n",
    "#### 22. Geometric Transformations of Images\n",
    "#### 23. Background Subtraction using opencv\n",
    "#### 24. Extract Images from Video using opencv\n",
    "#### 25. cvtColor method opencv\n",
    "#### 26. Crop Image using opencv\n",
    "#### 27. Create Blank Image opencv\n",
    "#### 28. Color Picker using opencv\n",
    "#### 29. getTrackbarPos() function in opencv\n",
    "#### 30. Region of Interest using opencv\n",
    "#### 31. Flip, Rotate & Transpose using opencv\n",
    "#### 32. Saving a video using opencv\n",
    "#### 33. Filter color with opencv (live object filter)\n",
    "#### 34. Perspective Transformation opencv"
   ]
  },
  {
   "cell_type": "markdown",
   "id": "16f30fdf-eed6-426c-9fcb-737bbcdd9bb9",
   "metadata": {},
   "source": [
    "## 1. What is Computer Vision\n",
    "Computer Vision is the field of computer science that focuses of creating digital systems that can process, analyze, and make sense of visual data (images or videos) in the same way that humans do."
   ]
  },
  {
   "cell_type": "markdown",
   "id": "7f30d353-a3c8-4e5b-a21a-b3fc4aeb9a25",
   "metadata": {},
   "source": [
    "## 2. What is OpenCV\n",
    "•\tOpenCV is python open-source library, which is used for computer vision in artificial Intelligence, Machine Learning, face recognition, etc.\n",
    "\n",
    "•\tIt is includes several hundreds of computer vision algorithms.\n",
    "\n",
    "•\tI t has C++, Python, Java and MATLAB interfaces and supports Windows, Linux, Android and Mac OS.\n",
    "\n",
    "•\tOpenCV is written natively in C++.\n",
    "\n",
    "•\tInitial Release in June 2000: 20 years ago\n"
   ]
  },
  {
   "cell_type": "markdown",
   "id": "3b7b6a32-84ae-48d2-acc8-1d396be9def1",
   "metadata": {},
   "source": [
    "## 3. Read and Show Image"
   ]
  },
  {
   "cell_type": "code",
   "execution_count": 1,
   "id": "792ffbb7-13d2-4d11-9785-e592e6148514",
   "metadata": {},
   "outputs": [],
   "source": [
    "import cv2\n",
    "import numpy as np\n",
    "import os"
   ]
  },
  {
   "cell_type": "code",
   "execution_count": 40,
   "id": "27eb8c0d-684a-463f-b241-cbb16bb50698",
   "metadata": {},
   "outputs": [],
   "source": [
    "img = cv2.imread(r\"C:\\Users\\Z\\Desktop\\AI Courses\\Computer Vision\\images\\img_1.jpg\") # image read\n",
    "cv2.imshow(\"maheen\",img)      # image show\n",
    "cv2.waitKey(0)            # image frame wait    Time - ms    and 0 pass keyboard any key pass\n",
    "cv2.destroyAllWindows()       # all windows close\n",
    "# cv2.destroyWindow()         # only one window close"
   ]
  },
  {
   "cell_type": "code",
   "execution_count": 42,
   "id": "f0ff9632-3d63-44d5-bca4-dec76f06afb8",
   "metadata": {},
   "outputs": [],
   "source": [
    "img = cv2.imread(r\"C:\\Users\\Z\\Desktop\\AI Courses\\Computer Vision\\images\\img_1.jpg\") # image read\n",
    "cv2.imshow(\"maheen haroon\", img) \n",
    "cv2.imshow(\"maheen\",img)      # image show\n",
    "cv2.waitKey(0)            # image frame wait    Time - ms    and 0 pass keyboard any key pass\n",
    "cv2.destroyAllWindows()       # all windows close\n",
    "# cv2.destroyWindow(\"maheen\")         # only one window close"
   ]
  },
  {
   "cell_type": "markdown",
   "id": "28682f6b-fcc7-4809-9d5e-51a89365ef32",
   "metadata": {},
   "source": [
    "## 4. Show Multiple Images and Slide Show"
   ]
  },
  {
   "cell_type": "code",
   "execution_count": 43,
   "id": "ce78ae78-3f5d-4218-8b89-0c41992deab2",
   "metadata": {},
   "outputs": [],
   "source": [
    "img = cv2.imread(r\"C:\\Users\\Z\\Desktop\\AI Courses\\Computer Vision\\images\\img_2.jpg\")\n",
    "re_img = cv2.resize(img, (300, 600))   # image resize\n",
    "cv2.imshow('maheen', re_img)\n",
    "cv2.waitKey(0)\n",
    "cv2.destroyAllWindows()"
   ]
  },
  {
   "cell_type": "code",
   "execution_count": 28,
   "id": "96a53a42-45c4-4064-afe5-f6c70b1c6e23",
   "metadata": {},
   "outputs": [
    {
     "data": {
      "text/plain": [
       "array([[1, 2, 3, 1, 2, 3, 1, 2, 3, 1, 2, 3],\n",
       "       [1, 2, 3, 1, 2, 3, 1, 2, 3, 1, 2, 3]])"
      ]
     },
     "execution_count": 28,
     "metadata": {},
     "output_type": "execute_result"
    }
   ],
   "source": [
    "v = np.array([[1,2,3,1,2,3],[1,2,3,1,2,3]])\n",
    "np.hstack((v,v))"
   ]
  },
  {
   "cell_type": "markdown",
   "id": "4800be71-1c9c-4a3f-a7f1-0a6388c4ae74",
   "metadata": {},
   "source": [
    "### show multipe images"
   ]
  },
  {
   "cell_type": "code",
   "execution_count": 46,
   "id": "e2217c4c-799b-4e7b-9391-4c7c3943de6b",
   "metadata": {},
   "outputs": [],
   "source": [
    "img = cv2.imread(r\"C:\\Users\\Z\\Desktop\\AI Courses\\Computer Vision\\images/img_2.jpg\")\n",
    "re_img = cv2.resize(img, (150,250))\n",
    "h = np.hstack((re_img, re_img, re_img))   # set horizontal images\n",
    "v = np.vstack((h,h))                      # set vertical images\n",
    "cv2.imshow('maheen', v)\n",
    "cv2.waitKey(0)\n",
    "cv2.destroyAllWindows()"
   ]
  },
  {
   "cell_type": "markdown",
   "id": "56b070e5-a9e4-404b-abf4-7db9529e168b",
   "metadata": {},
   "source": [
    "### slide show"
   ]
  },
  {
   "cell_type": "code",
   "execution_count": 51,
   "id": "58d2d4ee-f45f-4d08-916d-514a02d39822",
   "metadata": {},
   "outputs": [
    {
     "data": {
      "text/plain": [
       "['img_1.jpg', 'img_2.jpg']"
      ]
     },
     "execution_count": 51,
     "metadata": {},
     "output_type": "execute_result"
    }
   ],
   "source": [
    "list_name = os.listdir(r\"C:\\Users\\Z\\Desktop\\AI Courses\\Computer Vision\\images\")\n",
    "list_name"
   ]
  },
  {
   "cell_type": "code",
   "execution_count": 57,
   "id": "365e4651-0198-4569-bb6a-7a84429919d7",
   "metadata": {},
   "outputs": [],
   "source": [
    "list_name = os.listdir(r\"C:\\Users\\Z\\Desktop\\AI Courses\\Computer Vision\\images\")\n",
    "for name in list_name:\n",
    "    path = \"C:\\\\Users\\\\Z\\\\Desktop\\\\AI Courses\\\\Computer Vision\\\\images\"\n",
    "    img_name = path + '\\\\' + name\n",
    "    img = cv2.imread(img_name)\n",
    "    img = cv2.resize(img, (300,500))\n",
    "    cv2.imshow('Maheen Haroon', img)\n",
    "    cv2.waitKey(0)\n",
    "cv2.destroyAllWindows()"
   ]
  },
  {
   "cell_type": "markdown",
   "id": "95ef6a89-f8bb-49c6-930b-996ac2dec116",
   "metadata": {},
   "source": [
    "## 3. Read and Show Image [imread() & imshow()]"
   ]
  },
  {
   "cell_type": "code",
   "execution_count": 72,
   "id": "6cc629f0-f802-48a1-989d-f0a7d0958524",
   "metadata": {},
   "outputs": [
    {
     "name": "stdout",
     "output_type": "stream",
     "text": [
      "(520, 356)\n"
     ]
    }
   ],
   "source": [
    "img = cv2.imread(r\"C:\\Users\\Z\\Desktop\\AI Courses\\Computer Vision\\images/img_1.jpg\",0) # bgr (0-255, 0-255, 0-255)  color = 1, grayscale = 0, alpha = -1\n",
    "print(img.shape)\n",
    "img = cv2.resize(img, (356,520))\n",
    "cv2.imshow('Maheen Haroon', img)\n",
    "cv2.waitKey(0)\n",
    "cv2.destroyAllWindows()"
   ]
  },
  {
   "cell_type": "markdown",
   "id": "d9e522d1-5057-4df4-934a-a47cf8a4c288",
   "metadata": {},
   "source": [
    "## 5. Text Over a Image"
   ]
  },
  {
   "cell_type": "code",
   "execution_count": 101,
   "id": "1233e58e-7569-4c75-b5b0-4d148fcf6d08",
   "metadata": {},
   "outputs": [],
   "source": [
    "img_get = cv2.imread(r\"C:\\Users\\Z\\Desktop\\AI Courses\\Computer Vision\\images/img_2.jpg\", 1)\n",
    "img_get = cv2.resize(img_get, (300, 500))\n",
    "\n",
    "txt = cv2.putText(img = img_get,\n",
    "text = \"Maheen\",   # Text\n",
    "org = (30,50),            # Text Margin\n",
    "fontFace = cv2.FONT_HERSHEY_DUPLEX,  # Text Font_family\n",
    "fontScale = 2,    # Text Size\n",
    "color = (0,0,255),   # Text Color\n",
    "thickness = 1,     # Text Style\n",
    "lineType = cv2.LINE_AA,\n",
    "bottomLeftOrigin = False) # or True\n",
    "\n",
    "cv2.imshow('maheen', txt)\n",
    "cv2.waitKey(0)\n",
    "cv2.destroyAllWindows()"
   ]
  },
  {
   "cell_type": "markdown",
   "id": "3356b83b-bf16-41ff-99d6-a56603f0b044",
   "metadata": {},
   "source": [
    "## 6. Draw Line and Rectangle on Image "
   ]
  },
  {
   "cell_type": "markdown",
   "id": "699d32fc-6c48-4a76-bde0-9032bdab0a70",
   "metadata": {},
   "source": [
    "### Draw Line"
   ]
  },
  {
   "cell_type": "code",
   "execution_count": 137,
   "id": "8874da76-dee0-4c43-ba3d-f599554cd914",
   "metadata": {},
   "outputs": [],
   "source": [
    "old_img = cv2.imread(r\"C:\\Users\\Z\\Desktop\\AI Courses\\Computer Vision\\images/img_1.jpg\")\n",
    "old_img = cv2.resize(old_img, (300,400))\n",
    "\n",
    "new_img = cv2.line(img = old_img, pt1= (120,40), pt2= (190,40), color = (0,255,0), thickness=4, lineType = 4)\n",
    "\n",
    "cv2.imshow('Maheen', new_img)\n",
    "cv2.waitKey(0)\n",
    "cv2.destroyAllWindows()"
   ]
  },
  {
   "cell_type": "markdown",
   "id": "73e4313b-ba07-4fcb-92ad-335e214e35dc",
   "metadata": {},
   "source": [
    "### Rectangle on Image"
   ]
  },
  {
   "cell_type": "code",
   "execution_count": 217,
   "id": "f1e978b3-f59e-4bcf-b2af-d3b0db6a8640",
   "metadata": {},
   "outputs": [],
   "source": [
    "old_img = cv2.imread(r\"C:\\Users\\Z\\Desktop\\AI Courses\\Computer Vision\\images/img_1.jpg\")\n",
    "old_img = cv2.resize(old_img, (300, 400))\n",
    "# The org parameter should be a tuple\n",
    "txt_img = cv2.putText(img=old_img, text='Maheen', org=(115, 18), fontFace=1, \n",
    "                      fontScale=1, color=(0, 255, 0), thickness=2, lineType=cv2.LINE_AA)\n",
    "# Rectangle on Image\n",
    "new_img = cv2.rectangle(img=txt_img, pt1=(115, 20), pt2=(205, 130), color=(0, 255, 0), thickness=1, lineType=cv2.LINE_AA)\n",
    "\n",
    "cv2.imshow('Maheen', new_img)\n",
    "cv2.waitKey(0)\n",
    "cv2.destroyAllWindows()"
   ]
  },
  {
   "cell_type": "markdown",
   "id": "74bd3560-d604-4d55-b33d-f6628e7219fd",
   "metadata": {},
   "source": [
    "## 7. Draw Circle and Ellipse on Image"
   ]
  },
  {
   "cell_type": "markdown",
   "id": "e835408e-b197-4102-a8f1-5438438fa7c5",
   "metadata": {},
   "source": [
    "### Draw Circle on Image"
   ]
  },
  {
   "cell_type": "code",
   "execution_count": 170,
   "id": "ae2fa160-e381-46a8-8bf5-21b0dc3701cb",
   "metadata": {},
   "outputs": [],
   "source": [
    "old_img = cv2.imread(r\"C:\\Users\\Z\\Desktop\\AI Courses\\Computer Vision\\images/img_1.jpg\")\n",
    "old_img = cv2.resize(old_img, (300,400))\n",
    "\n",
    "new_img = cv2.circle(img=old_img, center=(160,70), radius=55, color=(0, 255, 0), thickness=2, lineType=cv2.LINE_AA)\n",
    "\n",
    "cv2.imshow(\"Maheen\", new_img)\n",
    "cv2.waitKey(0)\n",
    "cv2.destroyAllWindows()"
   ]
  },
  {
   "cell_type": "markdown",
   "id": "d43ba7ea-12f6-4033-b414-9d88164e445f",
   "metadata": {},
   "source": [
    "### Draw Ellipse on Image"
   ]
  },
  {
   "cell_type": "code",
   "execution_count": 63,
   "id": "62e0ce30-5464-4637-bb13-68b462cc4dc2",
   "metadata": {},
   "outputs": [],
   "source": [
    "old_img = cv2.imread(r\"C:\\Users\\Z\\Desktop\\AI Courses\\Computer Vision\\images/img_2.jpg\")\n",
    "old_img = cv2.resize(old_img, (300,500))\n",
    "\n",
    "txt_img = cv2.putText(img = old_img, text=\"Maheen\", org=(200,145), fontFace=1, fontScale=1, color=(0,255,0), thickness=2, lineType=4)\n",
    "# Draw Ellipse on Image\n",
    "new_img = cv2.ellipse(img = txt_img, center=(160,120), axes=(55,70),angle = 30, startAngle = 0, endAngle = 345,\n",
    "                     color=(0, 255, 0), thickness=2, lineType=cv2.LINE_AA)\n",
    "\n",
    "cv2.imshow(\"Maheen\", new_img)\n",
    "cv2.waitKey(0)\n",
    "cv2.destroyAllWindows()"
   ]
  },
  {
   "cell_type": "markdown",
   "id": "ee393b32-a18c-40f9-8702-f81f18fb270b",
   "metadata": {},
   "source": [
    "## 8. Draw Polygons on Image"
   ]
  },
  {
   "cell_type": "code",
   "execution_count": 40,
   "id": "3b5169ff-f7de-471f-9886-61156ff51e0b",
   "metadata": {},
   "outputs": [],
   "source": [
    "old_img = cv2.imread(r\"C:\\Users\\Z\\Desktop\\AI Courses\\Computer Vision\\images/img_6.jpg\")\n",
    "old_img = cv2.resize(old_img, (400,300))\n",
    "\n",
    "new_img = cv2.polylines(img=old_img, \n",
    "                        pts=[np.array([[145,40],[135,80],[160,125],[190,125],[200,100], [200,40]])],\n",
    "                        isClosed=True, color=(0,255,0), thickness=2, lineType=2)\n",
    "\n",
    "cv2.imshow(\"Woman\",new_img)\n",
    "cv2.waitKey(0)\n",
    "cv2.destroyAllWindows()"
   ]
  },
  {
   "cell_type": "markdown",
   "id": "a46d17e6-711c-44d4-80e0-ef509825d311",
   "metadata": {},
   "source": [
    "## 9. Arithmetic Operations on Images using opencv"
   ]
  },
  {
   "cell_type": "code",
   "execution_count": 58,
   "id": "abe72b21-7ecf-45a4-9d27-12f86a6de003",
   "metadata": {},
   "outputs": [],
   "source": [
    "img1 = cv2.imread(r\"C:\\Users\\Z\\Desktop\\AI Courses\\Computer Vision\\images/img_2.jpg\")\n",
    "img2 = cv2.imread(r\"C:\\Users\\Z\\Desktop\\AI Courses\\Computer Vision\\images/img_9.jpg\")\n",
    "\n",
    "img1 = cv2.resize(img1, (300,500))\n",
    "img2 = cv2.resize(img2, (300,500))\n",
    "\n",
    "#Merge Images\n",
    "new_img = cv2.addWeighted(img1, 1, img2, 1, 1)\n",
    "# Subract Images\n",
    "new_img = cv2.subtract(img2,img1)\n",
    "\n",
    "cv2.imshow(\"Maheen Haroon\", new_img)\n",
    "cv2.waitKey(0)\n",
    "cv2.destroyAllWindows()"
   ]
  },
  {
   "cell_type": "markdown",
   "id": "7b6b418c-857b-4ff0-a7d5-ffd65266c70a",
   "metadata": {},
   "source": [
    "## 10. Bitwise Operation on Images using opencv"
   ]
  },
  {
   "cell_type": "code",
   "execution_count": 12,
   "id": "57d45e48-2a83-48f3-89a9-891c7b2c5d8c",
   "metadata": {},
   "outputs": [],
   "source": [
    "img1 = cv2.imread(\"images\\img_10.png\")\n",
    "img2 = cv2.imread(\"images\\img_11.png\")\n",
    "\n",
    "img1 = cv2.resize(img1, (300,500))\n",
    "img2 = cv2.resize(img2, (300,500))\n",
    "\n",
    "# And Operation\n",
    "new = cv2.bitwise_and(img1, img2)\n",
    "# Or Operation\n",
    "new = cv2.bitwise_or(img1, img2)\n",
    "# Xor Operation\n",
    "new = cv2.bitwise_xor(img1, img2)\n",
    "# Not Operation\n",
    "new = cv2.bitwise_not(img1)\n",
    "\n",
    "h = np.hstack((img1,img2,new))\n",
    "\n",
    "cv2.imshow(\"Bitwise Image\", h)\n",
    "cv2.waitKey(0)\n",
    "cv2.destroyAllWindows()"
   ]
  },
  {
   "cell_type": "markdown",
   "id": "023ada83-6929-493f-bfa6-e7d8b79fbb33",
   "metadata": {},
   "source": [
    "## 11. Edge Detection in an image using opencv"
   ]
  },
  {
   "cell_type": "code",
   "execution_count": 22,
   "id": "adb62142-19dc-448b-82d6-ddd76b10e946",
   "metadata": {},
   "outputs": [
    {
     "name": "stdout",
     "output_type": "stream",
     "text": [
      "(400, 300, 3)\n",
      "(400, 300)\n"
     ]
    }
   ],
   "source": [
    "img  = cv2.imread(\"images\\img_1.jpg\")\n",
    "img = cv2.resize(img, (300,400))\n",
    "print(img.shape)\n",
    "\n",
    "new_img = cv2.Canny(img, 100, 200, apertureSize=7, L2gradient=True)\n",
    "print(new_img.shape)\n",
    "\n",
    "cv2.imshow(\"Maheen\", img)\n",
    "cv2.imshow(\"Maheen1\", new_img)\n",
    "cv2.waitKey(0)\n",
    "cv2.destroyAllWindows()\n"
   ]
  },
  {
   "cell_type": "markdown",
   "id": "b8d36cf9-346a-45b0-9058-d66139b65aa2",
   "metadata": {},
   "source": [
    "## 12. Image Scaling and Rotating using opencv"
   ]
  },
  {
   "cell_type": "markdown",
   "id": "51ade649-af45-4543-8e7f-80b1a605ff7a",
   "metadata": {},
   "source": [
    "### Image Scaling"
   ]
  },
  {
   "cell_type": "code",
   "execution_count": 2,
   "id": "838a43ec-fc1c-44db-b8dc-93b8e4250e66",
   "metadata": {},
   "outputs": [],
   "source": [
    "img = cv2.imread(\"images\\img_4.jpg\")\n",
    "re_img = cv2.resize(img, (550,400))\n",
    "\n",
    "cv2.imshow(\"Random\", re_img)\n",
    "cv2.waitKey(0)\n",
    "cv2.destroyAllWindows()"
   ]
  },
  {
   "cell_type": "markdown",
   "id": "3e04d29a-9195-48a6-a720-8b0f6f48fa7a",
   "metadata": {},
   "source": [
    "### Image Rotating"
   ]
  },
  {
   "cell_type": "code",
   "execution_count": 12,
   "id": "cb5b52f0-c345-41c3-804a-af44f6499819",
   "metadata": {},
   "outputs": [],
   "source": [
    "img = cv2.imread(\"images\\img_4.jpg\")\n",
    "re_img = cv2.resize(img, (500,500))\n",
    "(w,h) = re_img.shape[0], re_img.shape[1]\n",
    "center = (w/2, h/2)\n",
    "\n",
    "matrix = cv2.getRotationMatrix2D(center, 45, 1)\n",
    "rotated = cv2.warpAffine(re_img, matrix, (h,w))\n",
    "\n",
    "cv2.imshow(\"Random\", rotated)\n",
    "cv2.waitKey(0)\n",
    "cv2.destroyAllWindows()"
   ]
  },
  {
   "cell_type": "markdown",
   "id": "c79b9ff3-cae9-46f7-813c-a74bbfcdf8fa",
   "metadata": {},
   "source": [
    "## 13. Image Blurring using opencv"
   ]
  },
  {
   "cell_type": "code",
   "execution_count": 22,
   "id": "d7778d8a-5d46-4973-ae18-9c8af928517a",
   "metadata": {},
   "outputs": [],
   "source": [
    "org_img = cv2.imread(\"images\\img_6.jpg\")\n",
    "re_img  = cv2.resize(org_img, (300,200))\n",
    "\n",
    "# Gaussian Blur\n",
    "g = cv2.GaussianBlur(re_img, (7,7), 0)\n",
    "# Median Blur\n",
    "m = cv2.medianBlur(re_img, 3)\n",
    "# Bilateral Blur\n",
    "b = cv2.bilateralFilter(re_img,5, 100,100)\n",
    "\n",
    "h = np.hstack((re_img,g,m,b))\n",
    "\n",
    "cv2.imshow(\"Random\", h)\n",
    "cv2.waitKey(0)\n",
    "cv2.destroyAllWindows()"
   ]
  },
  {
   "cell_type": "markdown",
   "id": "7f4a300e-afcb-4cb0-819a-1b2737a9ae9f",
   "metadata": {},
   "source": [
    "## 14. IMWRITE Method suing opencv"
   ]
  },
  {
   "cell_type": "code",
   "execution_count": 28,
   "id": "ba8a0050-42a0-47d7-bbe5-98f7b88170a4",
   "metadata": {},
   "outputs": [],
   "source": [
    "img1 = cv2.imread(\"images\\img_9.jpg\")\n",
    "img2 = cv2.imread(\"images\\img_1.jpg\")\n",
    "img3 = cv2.imread(\"images\\img_2.jpg\")\n",
    "img4 = cv2.imread(\"images\\img_7.jpg\")\n",
    "\n",
    "re_img1 = cv2.resize(img1, (300,300,))\n",
    "re_img2 = cv2.resize(img2, (300,300,))\n",
    "re_img3 = cv2.resize(img3, (300,300,))\n",
    "re_img4 = cv2.resize(img4, (300,300,))\n",
    "\n",
    "h = np.hstack((re_img1, re_img2))\n",
    "h1 = np.hstack((re_img3,re_img4))\n",
    "\n",
    "v = np.vstack((h,h1))\n",
    "\n",
    "cv2.imwrite(\"images\\merge.jpg\", v)\n",
    "cv2.imshow(\"merge\",v)\n",
    "cv2.waitKey(0)\n",
    "cv2.destroyAllWindows()"
   ]
  },
  {
   "cell_type": "markdown",
   "id": "8784647a-fe7f-4686-9d8c-8a985dc3210d",
   "metadata": {},
   "source": [
    "## 15. Makeborder using opencv"
   ]
  },
  {
   "cell_type": "code",
   "execution_count": 3,
   "id": "e28e7800-48e1-4803-8179-7e974600f624",
   "metadata": {},
   "outputs": [],
   "source": [
    "img = cv2.imread(\"images\\img_7.jpg\")\n",
    "img = cv2.resize(img, (400,300))\n",
    "\n",
    "# cv2.BORDER_CONSTANT, cv2.BORDER_REFLECT, cv2.BORDER_REFLECT_101, cv2.BORDER_DEFAULT, cv2.BORDER_REPLICATE, cv2.BORDER_ISOLATED\n",
    "new_img = cv2.copyMakeBorder(img, 20,20,20,20, cv2.BORDER_REPLICATE)\n",
    "\n",
    "cv2.imshow(\"Random\", new_img)\n",
    "cv2.waitKey(0)\n",
    "cv2.destroyAllWindows()"
   ]
  },
  {
   "cell_type": "markdown",
   "id": "fdeb3b2e-1ba4-4a7a-9116-23a87bbe9dce",
   "metadata": {},
   "source": [
    "## 16. Play a Video using opencv"
   ]
  },
  {
   "cell_type": "code",
   "execution_count": 22,
   "id": "59fc906c-fd37-490e-92cf-a16a29be4af3",
   "metadata": {},
   "outputs": [],
   "source": [
    "cap = cv2.VideoCapture(r\"images\\video_1.mp4\")  # Use raw string or forward slashes\n",
    "\n",
    "while cap.isOpened():\n",
    "    ret, frame = cap.read()\n",
    "    if ret == True:\n",
    "        frame = cv2.resize(frame, (600, 500))\n",
    "        cv2.imshow(\"Cricket\", frame)\n",
    "        \n",
    "        # Wait for 25ms and check if 'p' is pressed to pause/exit\n",
    "        if cv2.waitKey(25) & 0xFF == ord('p'):\n",
    "            break\n",
    "    else:\n",
    "        break\n",
    "\n",
    "cap.release()\n",
    "cv2.destroyAllWindows()"
   ]
  },
  {
   "cell_type": "markdown",
   "id": "e0aeabc4-2c5a-4fa3-affb-ad0c5eb7e34e",
   "metadata": {},
   "source": [
    "## 17. Capture Video from camera using opencv"
   ]
  },
  {
   "cell_type": "code",
   "execution_count": 21,
   "id": "48e04a98-229d-4244-b634-11a16e8891a7",
   "metadata": {},
   "outputs": [],
   "source": [
    "cap = cv2.VideoCapture(0)\n",
    "\n",
    "while True:\n",
    "    ret, frame = cap.read()\n",
    "    if ret == True:\n",
    "        frame = cv2.resize(frame, (500, 500))\n",
    "        cv2.imshow(\"Camera\", frame)\n",
    "        if cv2.waitKey(25) & 0xFF == ord(\"p\"):\n",
    "            break\n",
    "    else:\n",
    "        break\n",
    "\n",
    "cap.release()\n",
    "cv2.destroyAllWindows()"
   ]
  },
  {
   "cell_type": "markdown",
   "id": "141f8fba-7106-4ecd-a7ae-fb8b9b40cbf9",
   "metadata": {},
   "source": [
    "## 18. Slow and  Fast Motion Video"
   ]
  },
  {
   "cell_type": "code",
   "execution_count": 27,
   "id": "2951d35e-2c16-446f-af60-feab47921320",
   "metadata": {},
   "outputs": [],
   "source": [
    "cap = cv2.VideoCapture(r\"images\\video_1.mp4\")\n",
    "while cap.isOpened():\n",
    "    ref, frame = cap.read()\n",
    "    if ref == True:\n",
    "        frame = cv2.resize(frame, (500,500))\n",
    "        cv2.imshow(\"Cricket\", frame)\n",
    "        # if wait key is less than 25 video runing fast and if wait key is greater than 25 video runing slow.\n",
    "        if cv2.waitKey(25) & 0xff == ord(\"p\"):\n",
    "            break\n",
    "    else:\n",
    "        break\n",
    "cap.release()\n",
    "cv2.destroyAllWindows()"
   ]
  },
  {
   "cell_type": "markdown",
   "id": "2f799675-4844-4d33-b929-1d0ce6e3854c",
   "metadata": {},
   "source": [
    "## 19. Morphological Operations using opencv"
   ]
  },
  {
   "cell_type": "code",
   "execution_count": 58,
   "id": "af44764e-12ca-4504-8ab6-b32feeb4afa0",
   "metadata": {},
   "outputs": [],
   "source": [
    "img = cv2.imread(r\"images\\img_13.png\")\n",
    "img1 = cv2.imread(\"images\\img_14.jpeg\")\n",
    "img = cv2.resize(img, (500,500))\n",
    "img1 = cv2.resize(img1, (500,500))\n",
    "\n",
    "m = np.ones((40,40),np.int8)\n",
    "# Erosion Image\n",
    "er = cv2.erode(img,m, iterations=1)\n",
    "# Dilation Image\n",
    "di = cv2.dilate(img,m, iterations=1)\n",
    "# Opeing Image\n",
    "op = cv2.morphologyEx(img1, cv2.MORPH_OPEN, m,iterations=1)\n",
    "# Closing Image\n",
    "cl = cv2.morphologyEx(img1, cv2.MORPH_CLOSE, m, iterations=1)\n",
    "# Morphological Gradient \n",
    "gr = cv2.morphologyEx(img, cv2.MORPH_GRADIENT, m, iterations=1)\n",
    "# Top / White Hat\n",
    "tp = cv2.morphologyEx(img, cv2.MORPH_TOPHAT, m, iterations=1)\n",
    "# Black Hat\n",
    "bl = cv2.morphologyEx(img, cv2.MORPH_BLACKHAT, m, iterations=1)\n",
    "\n",
    "cv2.imshow(\"img\", img)\n",
    "cv2.imshow(\"Erosion\",er)\n",
    "cv2.imshow(\"Dilation\", di)\n",
    "cv2.imshow(\"img1\", img1)\n",
    "cv2.imshow(\"Opening\", op)\n",
    "cv2.imshow(\"Closing\", cl)\n",
    "cv2.imshow(\"Morphological Gradient\", gr)\n",
    "cv2.imshow(\"Top / White Hat\", tp)\n",
    "cv2.imshow(\"Black Hat\", bl)\n",
    "cv2.waitKey(0)\n",
    "cv2.destroyAllWindows()"
   ]
  },
  {
   "cell_type": "markdown",
   "id": "fe3123f3-5be6-44a7-8a63-b0f1a8caa32f",
   "metadata": {},
   "source": [
    "## 20. Image Pyramid using opencv"
   ]
  },
  {
   "cell_type": "code",
   "execution_count": 67,
   "id": "ada0bb6f-b89f-4206-9dc9-cc4db34934ec",
   "metadata": {},
   "outputs": [],
   "source": [
    "img = cv2.imread(\"images\\img_5.JPG\")\n",
    "\n",
    "# Down Pyramid\n",
    "new = cv2.pyrDown(img)\n",
    "new1 = cv2.pyrDown(new)\n",
    "\n",
    "# Up Pyramid\n",
    "up_img = cv2.pyrUp(img)\n",
    "\n",
    "cv2.imshow(\"img\", img)\n",
    "cv2.imshow(\"Down Pyramid\", new)\n",
    "cv2.imshow(\"Down Pyramid1\", new1)\n",
    "cv2.imshow(\"Up Pyramid\", up_img)\n",
    "cv2.waitKey(0)\n",
    "cv2.destroyAllWindows()"
   ]
  },
  {
   "cell_type": "markdown",
   "id": "31f909d5-ac09-4351-9b30-5dde27dfd877",
   "metadata": {},
   "source": [
    "## 21. Image Translation using opencv"
   ]
  },
  {
   "cell_type": "code",
   "execution_count": 6,
   "id": "dd6b8e6a-3ae2-46aa-9c4d-09c9abbc76e9",
   "metadata": {},
   "outputs": [],
   "source": [
    "img = cv2.imread(\"images\\img_7.jpg\")\n",
    "img = cv2.resize(img, (500,350))\n",
    "\n",
    "m = np.float32([[1,0,100],[0,1,50]])\n",
    "\n",
    "new_img = cv2.warpAffine(img,m,(500,500))\n",
    "\n",
    "cv2.imshow(\"img\", img)\n",
    "cv2.imshow(\"m\", m)\n",
    "cv2.imshow(\"new_img\", new_img)\n",
    "cv2.waitKey(0)\n",
    "cv2.destroyAllWindows()"
   ]
  },
  {
   "cell_type": "markdown",
   "id": "341887aa-5b8b-4ef4-8e23-5b87cf2f55a1",
   "metadata": {},
   "source": [
    "## 22. Geometric Transformations of Images\n",
    "note it on word file"
   ]
  },
  {
   "cell_type": "markdown",
   "id": "d25ee6ab-1d3e-404e-b5c5-3b56c4328798",
   "metadata": {},
   "source": [
    "## 23. Background Subtraction using opencv"
   ]
  },
  {
   "cell_type": "code",
   "execution_count": 19,
   "id": "9a9eb3f2-9c98-47e7-918d-bd91ec178e1f",
   "metadata": {},
   "outputs": [],
   "source": [
    "org_v = cv2.VideoCapture(r\"images\\video_1.MP4\")\n",
    "sub_m = cv2.createBackgroundSubtractorMOG2()\n",
    "\n",
    "while True:\n",
    "    ret, frame = org_v.read()\n",
    "    if ret == True:\n",
    "        frame = cv2.resize(frame, (700,500))\n",
    "        sub_v = sub_m.apply(frame)\n",
    "        cv2.imshow(\"Sub Video\", sub_v)\n",
    "        cv2.imshow(\"Video Play\", frame)\n",
    "        if cv2.waitKey(25) & 0xff == ord('p'):\n",
    "            break\n",
    "    else:\n",
    "        break\n",
    "\n",
    "org_v.release()\n",
    "cv2.destroyAllWindows()"
   ]
  },
  {
   "cell_type": "markdown",
   "id": "c2a11d68-5d41-4d60-b6a4-1f283b80f00c",
   "metadata": {},
   "source": [
    "## 24. Extract Images from Video using opencv"
   ]
  },
  {
   "cell_type": "code",
   "execution_count": 5,
   "id": "7a875741-320b-4070-a623-77452143d580",
   "metadata": {},
   "outputs": [],
   "source": [
    "cap = cv2.VideoCapture(r\"images\\video_1.mp4\")\n",
    "c =0\n",
    "while True:\n",
    "    r, frame = cap.read()\n",
    "    if r == True:\n",
    "        cv2.imshow(\"Video\", frame)\n",
    "        filename = \"New folder//image_\" + str(c) + \".png\"\n",
    "        cv2.imwrite(filename, frame)\n",
    "        c = c + 1\n",
    "        if cv2.waitKey(25) & 0xff == ord('p'):\n",
    "            break\n",
    "    else:\n",
    "        break\n",
    "\n",
    "cap.release()\n",
    "cv2.destroyAllWindows()"
   ]
  },
  {
   "cell_type": "markdown",
   "id": "6ef52d74-dc79-401f-8f30-bd6ef89b1ef0",
   "metadata": {},
   "source": [
    "## 25. cvtColor method opencv"
   ]
  },
  {
   "cell_type": "code",
   "execution_count": 3,
   "id": "56ab8457-d9e6-4d66-b2e3-c03b99b76e84",
   "metadata": {},
   "outputs": [],
   "source": [
    "org = cv2.imread(r\"images/img_4.jpg\")\n",
    "org = cv2.resize(org, (500, 350))\n",
    "\n",
    "new = cv2.cvtColor(org, cv2.COLOR_BGR2HLS)\n",
    "\n",
    "cv2.imshow(\"Original Image\", org)\n",
    "cv2.imshow(\"New Image\", new)\n",
    "cv2.waitKey(0)\n",
    "cv2.destroyAllWindows()"
   ]
  },
  {
   "cell_type": "markdown",
   "id": "bf64ef40-237d-454b-9a5b-8a0b4176a4e5",
   "metadata": {},
   "source": [
    "## 26. Crop Image using opencv"
   ]
  },
  {
   "cell_type": "code",
   "execution_count": 11,
   "id": "0ffa6dd9-2b73-473e-bcac-d40afc6e6bbb",
   "metadata": {},
   "outputs": [],
   "source": [
    "img = cv2.imread(\"images\\img_5.jpg\")\n",
    "img = cv2.resize(img, (500,350))\n",
    "\n",
    "# [y1:y2, x1:x2]\n",
    "crop = img[5:150,175:320]\n",
    "\n",
    "cv2.imshow(\"Image\", img)\n",
    "cv2.imshow(\"Crop\", crop)\n",
    "cv2.waitKey(0)\n",
    "cv2.destroyAllWindows()"
   ]
  },
  {
   "cell_type": "markdown",
   "id": "b6215357-b7b7-4950-8c55-b7b2d255710f",
   "metadata": {},
   "source": [
    "## 27. Create Blank Image opencv"
   ]
  },
  {
   "cell_type": "code",
   "execution_count": 15,
   "id": "63d2eca2-eac2-48d1-aeaa-9644f5d725c6",
   "metadata": {},
   "outputs": [],
   "source": [
    "white_img = np.ones((500,500,3), np.uint8)*255\n",
    "cv2.imshow(\"White Image\", white_img)\n",
    "cv2.waitKey(0)\n",
    "cv2.destroyAllWindows()"
   ]
  },
  {
   "cell_type": "code",
   "execution_count": 16,
   "id": "37f19f8f-5deb-442b-ab58-3b1625f590ca",
   "metadata": {},
   "outputs": [],
   "source": [
    "black_img = np.zeros((500,500,3), np.uint8)*255\n",
    "cv2.imshow(\"Black Image\", black_img)\n",
    "cv2.waitKey(0)\n",
    "cv2.destroyAllWindows()"
   ]
  },
  {
   "cell_type": "markdown",
   "id": "78d487be-ca8c-4588-b2f9-14635ca876f7",
   "metadata": {},
   "source": [
    "## 28. Color Picker using opencv"
   ]
  },
  {
   "cell_type": "code",
   "execution_count": 2,
   "id": "7ac828ff-45f0-4247-9e9c-a404a894d9e4",
   "metadata": {},
   "outputs": [],
   "source": [
    "def image(x):\n",
    "    pass"
   ]
  },
  {
   "cell_type": "code",
   "execution_count": 4,
   "id": "511d1ce1-5ac4-47aa-aac0-282c77ac36ac",
   "metadata": {},
   "outputs": [],
   "source": [
    "img = np.ones((500,500,3), np.uint8)*255\n",
    "cv2.namedWindow(\"colour\")\n",
    "\n",
    "cv2.createTrackbar(\"R\", \"colour\",0,255, image)\n",
    "cv2.createTrackbar(\"G\", \"colour\",0,255, image)\n",
    "cv2.createTrackbar(\"B\", \"colour\",0,255, image)\n",
    "\n",
    "while True:\n",
    "    cv2.imshow(\"colour\", img)\n",
    "    if cv2.waitKey(1) & 0xff == ord('p'):\n",
    "        break\n",
    "    r = cv2.getTrackbarPos(\"R\", \"colour\")\n",
    "    g = cv2.getTrackbarPos(\"G\", \"colour\")\n",
    "    b = cv2.getTrackbarPos(\"B\", \"colour\")\n",
    "\n",
    "    img[:] = [b, g, r]\n",
    "cv2.destroyAllWindows()\n",
    "    "
   ]
  },
  {
   "cell_type": "markdown",
   "id": "169cf82f-c728-4b70-b136-e0ef9e167d04",
   "metadata": {},
   "source": [
    "## 29. getTrackbarPos() function in opencv"
   ]
  },
  {
   "cell_type": "code",
   "execution_count": 5,
   "id": "ba50dbcb-f204-47bf-bd5c-0c7c8fcf7e95",
   "metadata": {},
   "outputs": [],
   "source": [
    "def deff(x):\n",
    "    pass"
   ]
  },
  {
   "cell_type": "code",
   "execution_count": 10,
   "id": "bcd57e8c-140a-4232-aa16-2a5737055e82",
   "metadata": {},
   "outputs": [],
   "source": [
    "img = np.zeros((500,500,3), np.uint8)*255\n",
    "cv2.namedWindow(\"bar\")\n",
    "\n",
    "cv2.createTrackbar(\"on\", \"bar\", 0,200, deff)\n",
    "\n",
    "while True:\n",
    "    cv2.imshow(\"bar\", img)\n",
    "    if cv2.waitKey(1) & 0xff == ord(\"p\"):\n",
    "        break\n",
    "    on = cv2.getTrackbarPos(\"on\", \"bar\")\n",
    "\n",
    "    img[:] = [0,100,on]\n",
    "cv2.destroyAllWindows()"
   ]
  },
  {
   "cell_type": "markdown",
   "id": "c5f10c78-c9d5-4b72-85fb-abcfb83c3024",
   "metadata": {},
   "source": [
    "## 30. Region of Interest using opencv"
   ]
  },
  {
   "cell_type": "code",
   "execution_count": 37,
   "id": "60ed8ec3-a74f-4ec0-8656-1965a319bde9",
   "metadata": {},
   "outputs": [],
   "source": [
    "img = cv2.imread(\"images\\img_5.jpg\")\n",
    "\n",
    "# [y1:y2, x1:x2]\n",
    "crop = img[5:145,215:315]\n",
    "img[5:145,315:415] = crop # right\n",
    "img[5:145,415:515] = crop # right\n",
    "img[145:285,415:515] = crop # right down\n",
    "\n",
    "img[5:145,115:215] = crop # left\n",
    "img[5:145,15:115] = crop # left\n",
    "img[145:285,15:115] = crop # left down\n",
    "\n",
    "cv2.imshow(\"img\", img)\n",
    "cv2.waitKey(0)\n",
    "cv2.destroyAllWindows()"
   ]
  },
  {
   "cell_type": "markdown",
   "id": "637e7e40-040f-46d7-8d60-0c9f5cd39d8f",
   "metadata": {},
   "source": [
    "## 31. Flip, Rotate & Transpose using opencv"
   ]
  },
  {
   "cell_type": "code",
   "execution_count": 15,
   "id": "d420b9be-40c3-4959-8ee1-c5aaa636498c",
   "metadata": {},
   "outputs": [],
   "source": [
    "img = cv2.imread(\"images\\img_6.jpg\")\n",
    "\n",
    "# Flip\n",
    "img = cv2.flip(img, 1) # y axis\n",
    "img = cv2.flip(img, 0) # x axis\n",
    "img = cv2.flip(img, -1) # x, y axis\n",
    "\n",
    "# Rotate\n",
    "img = cv2.rotate(img, cv2.ROTATE_90_COUNTERCLOCKWISE)\n",
    "\n",
    "# Transpose\n",
    "img = cv2.transpose(img)\n",
    "\n",
    "cv2.imshow(\"Image\", img)\n",
    "cv2.waitKey(0)\n",
    "cv2.destroyAllWindows()"
   ]
  },
  {
   "cell_type": "markdown",
   "id": "22a72682-0644-4b78-bc63-7cff13be65a5",
   "metadata": {},
   "source": [
    "## 32. Saving a video using opencv"
   ]
  },
  {
   "cell_type": "code",
   "execution_count": 5,
   "id": "b4ec19c7-73c0-499e-8f44-79385c4cd73e",
   "metadata": {},
   "outputs": [],
   "source": [
    "cap = cv2.VideoCapture(0)\n",
    "\n",
    "f = cv2.VideoWriter_fourcc(*'XVID')\n",
    "out = cv2.VideoWriter(\"demo.mp4\",f,25.0,(640,480))  # add 0 for grayscale video\n",
    "\n",
    "while cap.isOpened():\n",
    "    ret, frame = cap.read()\n",
    "    if ret == True:\n",
    "        frame = cv2.cvtColor(frame, cv2.COLOR_BGR2GRAY)   # add this for gray scale video\n",
    "        frame = cv2.flip(frame,1)\n",
    "        cv2.imshow(\"Video\", frame)\n",
    "        out.write(frame)\n",
    "        if cv2.waitKey(1) & 0xff == ord('p'):\n",
    "            break\n",
    "    else:\n",
    "        break\n",
    "\n",
    "cap.release()\n",
    "out.release()\n",
    "cv2.destroyAllWindows()"
   ]
  },
  {
   "cell_type": "markdown",
   "id": "89db7873-1696-4d96-85b1-fc6a4b2443e4",
   "metadata": {},
   "source": [
    "## 33. Filter color with opencv (live object filter)"
   ]
  },
  {
   "cell_type": "code",
   "execution_count": 3,
   "id": "882eb836-66c3-4e3b-b112-a3be5fb5478a",
   "metadata": {},
   "outputs": [],
   "source": [
    "cap = cv2.VideoCapture(0)\n",
    "def demo(x):\n",
    "    pass\n",
    "\n",
    "cv2.namedWindow(\"demo\")\n",
    "cv2.createTrackbar(\"lb\",\"demo\", 0,255, demo)\n",
    "cv2.createTrackbar(\"lg\",\"demo\", 0,255, demo)\n",
    "cv2.createTrackbar(\"lr\",\"demo\", 0,255, demo)\n",
    "\n",
    "cv2.createTrackbar(\"ub\",\"demo\", 255,255, demo)\n",
    "cv2.createTrackbar(\"ug\",\"demo\", 255,255, demo)\n",
    "cv2.createTrackbar(\"ur\",\"demo\", 255,255, demo)\n",
    "\n",
    "while cap.isOpened():\n",
    "    r, frame = cap.read()\n",
    "    if r == True:\n",
    "        img = cv2.resize(frame, (400,300))\n",
    "        hsv_img = cv2.cvtColor(img, cv2.COLOR_BGR2HSV)\n",
    "\n",
    "        Lb = cv2.getTrackbarPos(\"lb\", \"demo\")\n",
    "        Lg = cv2.getTrackbarPos(\"lg\", \"demo\")\n",
    "        Lr = cv2.getTrackbarPos(\"lr\", \"demo\")\n",
    "\n",
    "        Ub = cv2.getTrackbarPos(\"ub\", \"demo\")\n",
    "        Ug = cv2.getTrackbarPos(\"ug\", \"demo\")\n",
    "        Ur = cv2.getTrackbarPos(\"ur\", \"demo\")\n",
    "\n",
    "        lo = np.array([Lb, Lg, Lr])\n",
    "        up = np.array([Ub, Ug, Ur])\n",
    "\n",
    "        masks = cv2.inRange(hsv_img, lo, up)\n",
    "\n",
    "        res = cv2.bitwise_and(img, img, mask = masks)\n",
    "\n",
    "        cv2.imshow(\"res\",res)\n",
    "        cv2.imshow(\"mask\", masks)\n",
    "        cv2.imshow(\"hsv\", hsv_img)\n",
    "        cv2.imshow(\"Original\", img)\n",
    "        if cv2.waitKey(1) & 0xff == ord('p'):\n",
    "            break\n",
    "    else:\n",
    "        break\n",
    "\n",
    "cap.release()\n",
    "cv2.destroyAllWindows()"
   ]
  },
  {
   "cell_type": "markdown",
   "id": "42739325-e55d-4007-b56f-fe6ef0076188",
   "metadata": {},
   "source": [
    "## 34. Perspective Transformation opencv"
   ]
  },
  {
   "cell_type": "code",
   "execution_count": 6,
   "id": "69f33134-e011-4603-9d50-241b7a0f81a1",
   "metadata": {},
   "outputs": [],
   "source": [
    "img = cv2.imread(\"images\\img_15.jpeg\")\n",
    "\n",
    "\n",
    "cv2.circle(img, (55,14), 4,(0,0,255), -1)\n",
    "cv2.circle(img, (222,76), 4,(0,0,255), -1)\n",
    "cv2.circle(img, (3,173), 4,(0,0,255), -1)\n",
    "cv2.circle(img, (179,223), 4,(0,0,255), -1)\n",
    "\n",
    "cv2.imshow(\"Image\", img)\n",
    "cv2.waitKey(0)\n",
    "cv2.destroyAllWindows()"
   ]
  },
  {
   "cell_type": "code",
   "execution_count": 12,
   "id": "39bba0d2-7147-429c-9771-44d00685106e",
   "metadata": {},
   "outputs": [],
   "source": [
    "img = cv2.imread(\"images\\img_15.jpeg\")\n",
    "w,h = (500,600)\n",
    "\n",
    "src1 = np.float32([[55, 14], [222, 76], [3, 173], [179, 223]])\n",
    "dst1 = np.float32([[0, 0], [w, 0], [0, h], [w, h]])    # first point [0,0], sec [w,0], 3rd [0,h], 4th [w,h]\n",
    "m = cv2.getPerspectiveTransform(src1, dst1)\n",
    "new_img = cv2.warpPerspective(img, m, (w, h))\n",
    "\n",
    "cv2.imshow(\"image\", img)\n",
    "cv2.imshow(\"new_image\", new_img)\n",
    "cv2.waitKey(0)\n",
    "cv2.destroyAllWindows()"
   ]
  },
  {
   "cell_type": "code",
   "execution_count": 2,
   "id": "5061a950-bc6f-4ef7-9fe0-ebff0d7f3e2c",
   "metadata": {},
   "outputs": [],
   "source": []
  },
  {
   "cell_type": "code",
   "execution_count": null,
   "id": "9453896d-65f4-4e68-814e-ac17646307c5",
   "metadata": {},
   "outputs": [],
   "source": []
  }
 ],
 "metadata": {
  "kernelspec": {
   "display_name": "Python 3 (ipykernel)",
   "language": "python",
   "name": "python3"
  },
  "language_info": {
   "codemirror_mode": {
    "name": "ipython",
    "version": 3
   },
   "file_extension": ".py",
   "mimetype": "text/x-python",
   "name": "python",
   "nbconvert_exporter": "python",
   "pygments_lexer": "ipython3",
   "version": "3.10.11"
  }
 },
 "nbformat": 4,
 "nbformat_minor": 5
}
